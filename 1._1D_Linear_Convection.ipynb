{
 "cells": [
  {
   "cell_type": "markdown",
   "metadata": {},
   "source": [
    "# 1D Linear Convection\n",
    "https://www.youtube.com/watch?v=uGLsg_eC19I"
   ]
  },
  {
   "cell_type": "markdown",
   "metadata": {},
   "source": [
    "$$\n",
    "\\frac{\\partial u}{\\partial t} + c \\frac{\\partial u}{\\partial x} = 0\n",
    "$$\n",
    "This is the 1D hedat/wave equation where u is a quantity being transported, t is time, x is distance and c constant transport velocity. From this we can understand that the spatial relationship of u is related to the temporal relaitonship - fancy way of saying things change over time, and they're related through c.\n",
    "After time t, u(x) is just the initial profile displacedwith distance x=ct.\n",
    "We understnad that the solution wll be u(x,t) = U(x-ct)\n",
    "\n",
    "\n"
   ]
  },
  {
   "cell_type": "code",
   "execution_count": null,
   "metadata": {},
   "outputs": [],
   "source": []
  }
 ],
 "metadata": {
  "language_info": {
   "name": "python"
  }
 },
 "nbformat": 4,
 "nbformat_minor": 2
}
